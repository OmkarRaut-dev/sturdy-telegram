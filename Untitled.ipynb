{
 "cells": [
  {
   "cell_type": "code",
   "execution_count": 2,
   "id": "partial-drill",
   "metadata": {},
   "outputs": [
    {
     "name": "stdout",
     "output_type": "stream",
     "text": [
      "Reversed String:\n",
      "metti to Wlcome\n"
     ]
    }
   ],
   "source": [
    "# Python3 program to reverse a string\n",
    "# s = input()\n",
    "s = \"Wlcome to metti\"\n",
    "words = s.split(' ')\n",
    "string =[]\n",
    "for word in words:\n",
    "\tstring.insert(0, word)\n",
    "\n",
    "print(\"Reversed String:\")\n",
    "print(\" \".join(string))\n",
    "\n",
    "# Solution proposed bu Uttam\n"
   ]
  },
  {
   "cell_type": "code",
   "execution_count": 7,
   "id": "blind-competition",
   "metadata": {},
   "outputs": [
    {
     "name": "stdout",
     "output_type": "stream",
     "text": [
      "metti to Wlcome\n"
     ]
    }
   ],
   "source": []
  },
  {
   "cell_type": "code",
   "execution_count": null,
   "id": "controversial-sensitivity",
   "metadata": {},
   "outputs": [],
   "source": []
  },
  {
   "cell_type": "code",
   "execution_count": 13,
   "id": "operational-cuisine",
   "metadata": {},
   "outputs": [
    {
     "ename": "TypeError",
     "evalue": "UserMainCode() takes no arguments",
     "output_type": "error",
     "traceback": [
      "\u001b[1;31m---------------------------------------------------------------------------\u001b[0m",
      "\u001b[1;31mTypeError\u001b[0m                                 Traceback (most recent call last)",
      "\u001b[1;32m<ipython-input-13-ecf2303bda58>\u001b[0m in \u001b[0;36m<module>\u001b[1;34m\u001b[0m\n\u001b[0;32m     13\u001b[0m \u001b[1;33m\u001b[0m\u001b[0m\n\u001b[0;32m     14\u001b[0m \u001b[0ms\u001b[0m \u001b[1;33m=\u001b[0m \u001b[1;34m\"Wlcome to metti\"\u001b[0m\u001b[1;33m\u001b[0m\u001b[1;33m\u001b[0m\u001b[0m\n\u001b[1;32m---> 15\u001b[1;33m \u001b[0mp\u001b[0m \u001b[1;33m=\u001b[0m \u001b[0mUserMainCode\u001b[0m\u001b[1;33m(\u001b[0m\u001b[0ms\u001b[0m\u001b[1;33m)\u001b[0m\u001b[1;33m\u001b[0m\u001b[1;33m\u001b[0m\u001b[0m\n\u001b[0m\u001b[0;32m     16\u001b[0m \u001b[1;33m\u001b[0m\u001b[0m\n\u001b[0;32m     17\u001b[0m \u001b[1;33m\u001b[0m\u001b[0m\n",
      "\u001b[1;31mTypeError\u001b[0m: UserMainCode() takes no arguments"
     ]
    }
   ],
   "source": [
    "class UserMainCode:\n",
    "    @classmethod\n",
    "    def reversestring(cls, input1):\n",
    "        s = \"Wlcome to metti\"\n",
    "        words = s.split(' ')\n",
    "        string =[]\n",
    "        for word in words:\n",
    "            string.insert(0, word)\n",
    "\n",
    "        print(\"Reversed String:\")\n",
    "        print(\" \".join(string))\n",
    "        pass\n",
    "    \n",
    "s = \"Wlcome to metti\"\n",
    "p = UserMainCode(s)\n",
    "    \n",
    "\n"
   ]
  },
  {
   "cell_type": "code",
   "execution_count": null,
   "id": "fleet-blanket",
   "metadata": {},
   "outputs": [],
   "source": [
    "class Person:\n",
    "    def __init__(self, name, age):\n",
    "    self.name = name\n",
    "    self.age = age\n",
    "\n",
    "p1 = Person(\"John\", 36)\n",
    "\n",
    "print(p1.name)\n",
    "print(p1.age)"
   ]
  },
  {
   "cell_type": "code",
   "execution_count": null,
   "id": "social-performer",
   "metadata": {},
   "outputs": [],
   "source": [
    "# Python3 program to reverse a string\n",
    "\n",
    "# Function to reverse each word in the string\n",
    "def reverseString(s, start, end):\n",
    "\twhile start < end:\n",
    "\t\ts[start], s[end] = s[end], s[start]\n",
    "\t\tstart = start + 1\n",
    "\t\tend -= 1\n",
    "\n",
    "\n",
    "s = \"Wlcome to metti\"\n",
    "\n",
    "# Convert string to list to use it as a char array\n",
    "s = list(s)\n",
    "start = 0\n",
    "while True:\n",
    "\t\n",
    "\t# We use a try catch block because for\n",
    "\t# the last word the list.index() function\n",
    "\t# returns a ValueError as it cannot find\n",
    "\t# a space in the list\n",
    "\ttry:\n",
    "\t\t# Find the next space\n",
    "\t\tend = s.index(' ', start)\n",
    "\n",
    "\t\t# Call reverse_word function\n",
    "\t\t# to reverse each word\n",
    "\t\treverse_word(s, start, end - 1)\n",
    "\n",
    "\t\t#Update start variable\n",
    "\t\tstart = end + 1\n",
    "\n",
    "\texcept ValueError:\n",
    "\n",
    "\t\t# Reverse the last word\n",
    "\t\treverse_word(s, start, len(s) - 1)\n",
    "\t\tbreak\n",
    "\n",
    "# Reverse the entire list\n",
    "s.reverse()\n",
    "\n",
    "# Convert the list back to\n",
    "# string using string.join() function\n",
    "s = \"\".join(s)\n",
    "\n",
    "print(s)\n",
    "\n",
    "# Solution contributed by Prem Nagdeo\n"
   ]
  },
  {
   "cell_type": "code",
   "execution_count": null,
   "id": "psychological-drill",
   "metadata": {},
   "outputs": [],
   "source": [
    "class UserMainCode(object):\n",
    "\n",
    "@classmethod def reversestring(cls, input1): AVE\n",
    "\n",
    "input1: string\n",
    "\n",
    "Expected return type: string\n",
    "\n",
    "# Read only region end\n",
    "\n",
    "# Write code here\n",
    "\n",
    "Listofwords input1.split(' ')\n",
    "\n",
    "revstring = .join(Listofwords[::-1])\n",
    "\n",
    "print (revstring)\n",
    "\n",
    "pass\n",
    "\n",
    "obj = UserMainCode()\n",
    "\n",
    "obj.reversestring(\"Welcome to Mettl\")\n"
   ]
  }
 ],
 "metadata": {
  "kernelspec": {
   "display_name": "Python 3",
   "language": "python",
   "name": "python3"
  },
  "language_info": {
   "codemirror_mode": {
    "name": "ipython",
    "version": 3
   },
   "file_extension": ".py",
   "mimetype": "text/x-python",
   "name": "python",
   "nbconvert_exporter": "python",
   "pygments_lexer": "ipython3",
   "version": "3.8.3"
  }
 },
 "nbformat": 4,
 "nbformat_minor": 5
}
